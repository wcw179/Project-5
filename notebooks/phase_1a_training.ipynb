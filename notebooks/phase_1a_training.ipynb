{
 "cells": [
  {
   "cell_type": "markdown",
   "metadata": {},
   "source": [
    "# Phase 1A Model Training for Black Swan Detection"
   ]
  },
  {
   "cell_type": "markdown",
   "metadata": {},
   "source": [
    "### Instructions:\n",
    "1. Upload your entire project folder to your Google Drive.\n",
    "2. Update the `project_path` variable in cell #3 to the correct path in your Google Drive.\n",
    "3. Run all cells (`Runtime` > `Run all`)."
   ]
  },
  {
   "cell_type": "markdown",
   "metadata": {},
   "source": [
    "## 1. Setup Environment"
   ]
  },
  {
   "cell_type": "code",
   "execution_count": null,
   "metadata": {},
   "outputs": [],
   "source": [
    "# Install necessary packages\n",
    "!pip install pandas numpy xgboost scikit-learn sqlalchemy joblib optuna loguru pandas-ta tqdm"
   ]
  },
  {
   "cell_type": "markdown",
   "metadata": {},
   "source": [
    "## 2. Mount Google Drive"
   ]
  },
  {
   "cell_type": "code",
   "execution_count": null,
   "metadata": {},
   "outputs": [],
   "source": [
    "from google.colab import drive\n",
    "drive.mount('/content/drive')"
   ]
  },
  {
   "cell_type": "markdown",
   "metadata": {},
   "source": [
    "## 3. Configure Project Path"
   ]
  },
  {
   "cell_type": "code",
   "execution_count": null,
   "metadata": {},
   "outputs": [],
   "source": [
    "# IMPORTANT: Change this path to where your project is located in Google Drive\n",
    "import sys\n",
    "project_path = '/content/drive/MyDrive/Project-5/Project-5' # <-- CHANGE THIS\n",
    "sys.path.append(project_path)"
   ]
  },
  {
   "cell_type": "markdown",
   "metadata": {},
   "source": [
    "## 4. Run the Optimization Script"
   ]
  },
  {
   "cell_type": "code",
   "execution_count": null,
   "metadata": {},
   "outputs": [],
   "source": [
    "import os\n",
    "# Change the current working directory to the project path\n",
    "os.chdir(project_path)\n",
    "\n",
    "print(f'Current working directory: {os.getcwd()}')\n",
    "\n",
    "try:\n",
    "    from scripts import run_optimization\n",
    "    run_optimization.main()\n",
    "except Exception as e:\n",
    "    print(f'An error occurred: {e}')\n",
    "    # You can also use the logging module if you prefer\n",
    "    # from src.logger import logger\n",
    "    # logger.exception('An error occurred during optimization')"
   ]
  }
 ],
 "metadata": {
  "kernelspec": {
   "display_name": "Python 3",
   "language": "python",
   "name": "python3"
  },
  "language_info": {
   "codemirror_mode": {
    "name": "ipython",
    "version": 3
   },
   "file_extension": ".py",
   "mimetype": "text/x-python",
   "name": "python",
   "nbconvert_exporter": "python",
   "pygments_lexer": "ipython3",
   "version": "3.10.0"
  }
 },
 "nbformat": 4,
 "nbformat_minor": 4
}
